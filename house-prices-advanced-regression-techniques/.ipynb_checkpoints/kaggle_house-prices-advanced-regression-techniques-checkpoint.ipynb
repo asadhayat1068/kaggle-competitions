{
 "cells": [
  {
   "cell_type": "code",
   "execution_count": 51,
   "metadata": {
    "collapsed": true
   },
   "outputs": [],
   "source": [
    "#pwd"
   ]
  },
  {
   "cell_type": "code",
   "execution_count": 1,
   "metadata": {
    "collapsed": true
   },
   "outputs": [],
   "source": [
    "import numpy as np\n",
    "import pandas as pd"
   ]
  },
  {
   "cell_type": "code",
   "execution_count": 2,
   "metadata": {
    "collapsed": true
   },
   "outputs": [],
   "source": [
    "# read train data\n",
    "train = pd.read_csv(\"input/train.csv\")\n",
    "\n",
    " # read test data\n",
    "test = pd.read_csv(\"input/test.csv\")"
   ]
  },
  {
   "cell_type": "code",
   "execution_count": 3,
   "metadata": {
    "collapsed": true
   },
   "outputs": [],
   "source": [
    "#outliers ids\n",
    "outlier_idx = [4,11,13,20,46,66,70,167,178,185,199, 224,261, 309,313,318, 349,412,423,440,454,477,478, 523,540, 581,588,595,654,688, 691, 774, 798, 875, 898,926,970,987,1027,1109, 1169,1182,1239, 1256,1298,1324,1353,1359,1405,1442,1447]"
   ]
  },
  {
   "cell_type": "code",
   "execution_count": 4,
   "metadata": {
    "collapsed": true
   },
   "outputs": [],
   "source": [
    "#To delete outliers from data set\n",
    "train.drop(train.index[outlier_idx],inplace=True)\n",
    "\n",
    "all_data = pd.concat((train.loc[:,'MSSubClass':'SaleCondition'],\n",
    "                          test.loc[:,'MSSubClass':'SaleCondition']))"
   ]
  },
  {
   "cell_type": "code",
   "execution_count": 5,
   "metadata": {
    "collapsed": true
   },
   "outputs": [],
   "source": [
    "#to delete unneccesary columns    \n",
    "to_delete = ['Alley','FireplaceQu','PoolQC','Fence','MiscFeature']\n",
    "all_data = all_data.drop(to_delete,axis=1)"
   ]
  },
  {
   "cell_type": "code",
   "execution_count": 6,
   "metadata": {
    "collapsed": true
   },
   "outputs": [],
   "source": [
    "#log transform of saleprice\n",
    "train[\"SalePrice\"] = np.log1p(train[\"SalePrice\"])"
   ]
  },
  {
   "cell_type": "code",
   "execution_count": 7,
   "metadata": {
    "collapsed": true
   },
   "outputs": [],
   "source": [
    "#Import lib for skeness cheking\n",
    "from scipy.stats import skew"
   ]
  },
  {
   "cell_type": "code",
   "execution_count": 8,
   "metadata": {
    "collapsed": true
   },
   "outputs": [],
   "source": [
    "#log transform to all numeric features to check for skeness\n",
    "numeric_features = all_data.dtypes[all_data.dtypes != \"object\"].index\n",
    "skewed_features = train[numeric_features].apply(lambda x: skew(x.dropna()))\n",
    "skewed_features = skewed_features[skewed_features > 0.75]\n",
    "skewed_features = skewed_features.index"
   ]
  },
  {
   "cell_type": "code",
   "execution_count": 9,
   "metadata": {
    "collapsed": true
   },
   "outputs": [],
   "source": [
    "#log transform of all skewed features\n",
    "all_data[skewed_features] = np.log1p(all_data[skewed_features])\n",
    "all_data = pd.get_dummies(all_data)\n",
    "all_data = all_data.fillna(all_data.mean())"
   ]
  },
  {
   "cell_type": "code",
   "execution_count": 10,
   "metadata": {
    "collapsed": true
   },
   "outputs": [],
   "source": [
    "#Train and Test set data preperation\n",
    "X_train = all_data[:train.shape[0]]\n",
    "X_test = all_data[train.shape[0]:]\n",
    "y_train = train.SalePrice"
   ]
  },
  {
   "cell_type": "code",
   "execution_count": 11,
   "metadata": {},
   "outputs": [
    {
     "name": "stderr",
     "output_type": "stream",
     "text": [
      "/home/likewise-open/IMFCORP/ravi.ranjan/anaconda2/lib/python2.7/site-packages/sklearn/cross_validation.py:44: DeprecationWarning: This module was deprecated in version 0.18 in favor of the model_selection module into which all the refactored classes and functions are moved. Also note that the interface of the new CV iterators are different from that of this module. This module will be removed in 0.20.\n",
      "  \"This module will be removed in 0.20.\", DeprecationWarning)\n",
      "/home/likewise-open/IMFCORP/ravi.ranjan/anaconda2/lib/python2.7/site-packages/sklearn/grid_search.py:43: DeprecationWarning: This module was deprecated in version 0.18 in favor of the model_selection module into which all the refactored classes and functions are moved. This module will be removed in 0.20.\n",
      "  DeprecationWarning)\n"
     ]
    }
   ],
   "source": [
    "#Test with Random Forest Regrresor\n",
    "#Import library\n",
    "from sklearn.ensemble import RandomForestRegressor\n",
    "from sklearn.grid_search import GridSearchCV\n",
    "from sklearn.metrics import make_scorer, mean_squared_error"
   ]
  },
  {
   "cell_type": "code",
   "execution_count": 12,
   "metadata": {
    "collapsed": true
   },
   "outputs": [],
   "source": [
    "def mean_squared_error_(ground_truth, predictions):\n",
    "    return mean_squared_error(ground_truth, predictions) ** 0.5\n",
    "RMSE = make_scorer(mean_squared_error_, greater_is_better=False)    "
   ]
  },
  {
   "cell_type": "code",
   "execution_count": 13,
   "metadata": {},
   "outputs": [
    {
     "name": "stdout",
     "output_type": "stream",
     "text": [
      "Random forecast regression...\n",
      "Best Params:\n",
      "{}\n",
      "Best CV Score:\n",
      "0.138257862292\n"
     ]
    }
   ],
   "source": [
    "random_forest = RandomForestRegressor(n_jobs=1, random_state=0)\n",
    "\n",
    "#parameter tuning\n",
    "param_grid = {}#'n_estimators': [500], 'max_features': [10,15,20,25], 'max_depth':[3,5,7,9,11]}\n",
    "model = GridSearchCV(estimator=random_forest, param_grid=param_grid, n_jobs=1, cv=10, scoring=RMSE)\n",
    "model.fit(X_train, y_train)\n",
    "\n",
    "#results\n",
    "print('Random forecast regression...')\n",
    "print('Best Params:')\n",
    "print(model.best_params_)\n",
    "print('Best CV Score:')\n",
    "print(-model.best_score_)\n",
    "\n",
    "y_pred = model.predict(X_test)"
   ]
  },
  {
   "cell_type": "code",
   "execution_count": 14,
   "metadata": {
    "collapsed": true
   },
   "outputs": [],
   "source": [
    "#compare performace \n",
    "\n"
   ]
  },
  {
   "cell_type": "code",
   "execution_count": 15,
   "metadata": {},
   "outputs": [
    {
     "name": "stdout",
     "output_type": "stream",
     "text": [
      "('Creating submission: ', 'submission_Random_forest_classifier_2017-06-26-19-12.csv')\n"
     ]
    }
   ],
   "source": [
    "#create output file RAndom Forest for kaggle\n",
    "\n",
    "#import library\n",
    "import datetime\n",
    "\n",
    "now = datetime.datetime.now()\n",
    "sub_file = 'submission_Random_forest_classifier'+'_'+str(now.strftime(\"%Y-%m-%d-%H-%M\"))+'.csv'\n",
    "print ('Creating submission: ', sub_file)\n",
    "pd.DataFrame({'Id': test['Id'].values, 'SalePrice': np.exp(y_pred)}).to_csv('output/'+ sub_file, index=False)"
   ]
  },
  {
   "cell_type": "code",
   "execution_count": 16,
   "metadata": {},
   "outputs": [
    {
     "name": "stdout",
     "output_type": "stream",
     "text": [
      "Gradient boosted tree regression...\n",
      "Best Params:\n",
      "{}\n",
      "Best CV Score:\n",
      "0.112989754434\n"
     ]
    }
   ],
   "source": [
    "#Test with Gradient boosting tree\n",
    "#Import library\n",
    "from sklearn.ensemble import ExtraTreesRegressor, GradientBoostingRegressor\n",
    "\n",
    "gbr = GradientBoostingRegressor(random_state=0)\n",
    "param_grid = {\n",
    "                 #       'n_estimators': [500],\n",
    "                 #       'max_features': [10,15],\n",
    "                 #\t'max_depth': [6,8,10],\n",
    "                 #       'learning_rate': [0.05,0.1,0.15],\n",
    "                 #      'subsample': [0.8]\n",
    "}\n",
    "model = GridSearchCV(estimator=gbr, param_grid=param_grid, n_jobs=1, cv=10, scoring=RMSE)\n",
    "model.fit(X_train, y_train)\n",
    "print('Gradient boosted tree regression...')\n",
    "print('Best Params:')\n",
    "print(model.best_params_)\n",
    "print('Best CV Score:')\n",
    "print(-model.best_score_)\n",
    "\n",
    "y_pred = model.predict(X_test)"
   ]
  },
  {
   "cell_type": "code",
   "execution_count": 17,
   "metadata": {
    "collapsed": true
   },
   "outputs": [],
   "source": [
    "#compare performace \n"
   ]
  },
  {
   "cell_type": "code",
   "execution_count": 18,
   "metadata": {},
   "outputs": [
    {
     "name": "stdout",
     "output_type": "stream",
     "text": [
      "('Creating submission: ', 'submission_Gradient_boosted_tree_2017-06-26-19-13.csv')\n"
     ]
    }
   ],
   "source": [
    "#create output file Gradient boosted tree for kaggle\n",
    "\n",
    "now = datetime.datetime.now()\n",
    "sub_file = 'submission_Gradient_boosted_tree'+'_'+str(now.strftime(\"%Y-%m-%d-%H-%M\"))+'.csv'\n",
    "print ('Creating submission: ', sub_file)\n",
    "pd.DataFrame({'Id': test['Id'].values, 'SalePrice': np.exp(y_pred)}).to_csv(sub_file, index=False)"
   ]
  },
  {
   "cell_type": "code",
   "execution_count": 19,
   "metadata": {},
   "outputs": [
    {
     "name": "stdout",
     "output_type": "stream",
     "text": [
      "eXtreme Gradient Boosting regression...\n",
      "Best Params:\n",
      "{}\n",
      "Best CV Score:\n",
      "0.114989590086\n"
     ]
    }
   ],
   "source": [
    "#Test with XGBoost\n",
    "#Import library\n",
    "import xgboost as xgb\n",
    "\n",
    "xgbreg = xgb.XGBRegressor(seed=0)\n",
    "param_grid = {\n",
    "#        'n_estimators': [500],\n",
    "#        'learning_rate': [ 0.05],\n",
    "#        'max_depth': [ 7, 9, 11],\n",
    "#        'subsample': [ 0.8],\n",
    "#        'colsample_bytree': [0.75,0.8,0.85],\n",
    "}\n",
    "model = GridSearchCV(estimator=xgbreg, param_grid=param_grid, n_jobs=1, cv=10, scoring=RMSE)\n",
    "model.fit(X_train, y_train)\n",
    "print('eXtreme Gradient Boosting regression...')\n",
    "print('Best Params:')\n",
    "print(model.best_params_)\n",
    "print('Best CV Score:')\n",
    "print(-model.best_score_)\n",
    "\n",
    "y_pred = model.predict(X_test)"
   ]
  },
  {
   "cell_type": "code",
   "execution_count": 20,
   "metadata": {
    "collapsed": true
   },
   "outputs": [],
   "source": [
    "#compare performace \n"
   ]
  },
  {
   "cell_type": "code",
   "execution_count": 21,
   "metadata": {},
   "outputs": [
    {
     "name": "stdout",
     "output_type": "stream",
     "text": [
      "('Creating submission: ', 'submission_XGBoost_2017-06-26-19-13.csv')\n"
     ]
    }
   ],
   "source": [
    "#create output file XGBoost for kaggle\n",
    "\n",
    "now = datetime.datetime.now()\n",
    "sub_file = 'submission_XGBoost'+'_'+str(now.strftime(\"%Y-%m-%d-%H-%M\"))+'.csv'\n",
    "print ('Creating submission: ', sub_file)\n",
    "pd.DataFrame({'Id': test['Id'].values, 'SalePrice': np.exp(y_pred)}).to_csv(sub_file, index=False)"
   ]
  },
  {
   "cell_type": "code",
   "execution_count": 22,
   "metadata": {},
   "outputs": [
    {
     "name": "stdout",
     "output_type": "stream",
     "text": [
      "Extra trees regression...\n",
      "Best Params:\n",
      "{}\n",
      "Best CV Score:\n",
      "0.140210232577\n"
     ]
    }
   ],
   "source": [
    "#Test with Extra Tree Regression\n",
    "#Import library\n",
    "from sklearn.ensemble import ExtraTreesRegressor\n",
    "\n",
    "etr = ExtraTreesRegressor(n_jobs=1, random_state=0)\n",
    "param_grid = {}#'n_estimators': [500], 'max_features': [10,15,20]}\n",
    "model = GridSearchCV(estimator=etr, param_grid=param_grid, n_jobs=1, cv=10, scoring=RMSE)\n",
    "model.fit(X_train, y_train)\n",
    "print('Extra trees regression...')\n",
    "print('Best Params:')\n",
    "print(model.best_params_)\n",
    "print('Best CV Score:')\n",
    "print(-model.best_score_)\n",
    "\n",
    "y_pred = model.predict(X_test)"
   ]
  },
  {
   "cell_type": "code",
   "execution_count": 23,
   "metadata": {
    "collapsed": true
   },
   "outputs": [],
   "source": [
    "#compare performace "
   ]
  },
  {
   "cell_type": "code",
   "execution_count": 24,
   "metadata": {},
   "outputs": [
    {
     "name": "stdout",
     "output_type": "stream",
     "text": [
      "('Creating submission: ', 'submission_Extra_tree_regressor_2017-06-26-19-13.csv')\n"
     ]
    }
   ],
   "source": [
    "#create output file Extra tree regressor for kaggle\n",
    "\n",
    "now = datetime.datetime.now()\n",
    "sub_file = 'submission_Extra_tree_regressor'+'_'+str(now.strftime(\"%Y-%m-%d-%H-%M\"))+'.csv'\n",
    "print ('Creating submission: ', sub_file)\n",
    "pd.DataFrame({'Id': test['Id'].values, 'SalePrice': np.exp(y_pred)}).to_csv(sub_file, index=False)"
   ]
  },
  {
   "cell_type": "code",
   "execution_count": null,
   "metadata": {
    "collapsed": true
   },
   "outputs": [],
   "source": []
  },
  {
   "cell_type": "code",
   "execution_count": null,
   "metadata": {
    "collapsed": true
   },
   "outputs": [],
   "source": []
  },
  {
   "cell_type": "code",
   "execution_count": null,
   "metadata": {
    "collapsed": true
   },
   "outputs": [],
   "source": []
  },
  {
   "cell_type": "code",
   "execution_count": null,
   "metadata": {
    "collapsed": true
   },
   "outputs": [],
   "source": []
  }
 ],
 "metadata": {
  "kernelspec": {
   "display_name": "Python 2",
   "language": "python",
   "name": "python2"
  },
  "language_info": {
   "codemirror_mode": {
    "name": "ipython",
    "version": 2
   },
   "file_extension": ".py",
   "mimetype": "text/x-python",
   "name": "python",
   "nbconvert_exporter": "python",
   "pygments_lexer": "ipython2",
   "version": "2.7.13"
  }
 },
 "nbformat": 4,
 "nbformat_minor": 2
}
